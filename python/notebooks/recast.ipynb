{
 "cells": [
  {
   "cell_type": "code",
   "execution_count": 1,
   "metadata": {
    "collapsed": true
   },
   "outputs": [],
   "source": [
    "# -*- coding: utf-8 -*-"
   ]
  },
  {
   "cell_type": "code",
   "execution_count": 2,
   "metadata": {
    "collapsed": true
   },
   "outputs": [],
   "source": [
    "from __future__ import unicode_literals"
   ]
  },
  {
   "cell_type": "code",
   "execution_count": 3,
   "metadata": {
    "collapsed": true
   },
   "outputs": [],
   "source": [
    "%load_ext autoreload"
   ]
  },
  {
   "cell_type": "code",
   "execution_count": 4,
   "metadata": {
    "collapsed": true
   },
   "outputs": [],
   "source": [
    "%autoreload 2"
   ]
  },
  {
   "cell_type": "code",
   "execution_count": 5,
   "metadata": {
    "collapsed": true
   },
   "outputs": [],
   "source": [
    "%matplotlib inline"
   ]
  },
  {
   "cell_type": "code",
   "execution_count": 9,
   "metadata": {},
   "outputs": [
    {
     "ename": "ValueError",
     "evalue": "Attempted relative import in non-package",
     "output_type": "error",
     "traceback": [
      "\u001b[0;31m---------------------------------------------------------------------------\u001b[0m",
      "\u001b[0;31mValueError\u001b[0m                                Traceback (most recent call last)",
      "\u001b[0;32m<ipython-input-9-f9ef8919f5b0>\u001b[0m in \u001b[0;36m<module>\u001b[0;34m()\u001b[0m\n\u001b[1;32m      9\u001b[0m \u001b[0;32mimport\u001b[0m \u001b[0mpandas\u001b[0m \u001b[0;32mas\u001b[0m \u001b[0mpd\u001b[0m\u001b[0;34m\u001b[0m\u001b[0m\n\u001b[1;32m     10\u001b[0m \u001b[0;34m\u001b[0m\u001b[0m\n\u001b[0;32m---> 11\u001b[0;31m \u001b[0;32mfrom\u001b[0m \u001b[0;34m.\u001b[0m\u001b[0;34m.\u001b[0m \u001b[0;32mimport\u001b[0m \u001b[0mgen_graphs\u001b[0m \u001b[0;32mas\u001b[0m \u001b[0mgg\u001b[0m\u001b[0;34m\u001b[0m\u001b[0m\n\u001b[0m\u001b[1;32m     12\u001b[0m \u001b[0mget_ipython\u001b[0m\u001b[0;34m(\u001b[0m\u001b[0;34m)\u001b[0m\u001b[0;34m.\u001b[0m\u001b[0mmagic\u001b[0m\u001b[0;34m(\u001b[0m\u001b[0;34mu'aimport ../classifier'\u001b[0m\u001b[0;34m)\u001b[0m\u001b[0;34m\u001b[0m\u001b[0m\n\u001b[1;32m     13\u001b[0m \u001b[0mget_ipython\u001b[0m\u001b[0;34m(\u001b[0m\u001b[0;34m)\u001b[0m\u001b[0;34m.\u001b[0m\u001b[0mmagic\u001b[0m\u001b[0;34m(\u001b[0m\u001b[0;34mu'aimport ../graph_methods'\u001b[0m\u001b[0;34m)\u001b[0m\u001b[0;34m\u001b[0m\u001b[0m\n",
      "\u001b[0;31mValueError\u001b[0m: Attempted relative import in non-package"
     ]
    }
   ],
   "source": [
    "import sys\n",
    "import os\n",
    "\n",
    "import networkx as nx\n",
    "import numpy as np\n",
    "import matplotlib.pyplot as plt\n",
    "import matplotlib\n",
    "from matplotlib import rcParams\n",
    "import pandas as pd\n",
    "\n",
    "from .. import gen_graphs as gg\n",
    "%aimport ../classifier\n",
    "%aimport ../graph_methods\n",
    "%aimport ../ecdf"
   ]
  },
  {
   "cell_type": "code",
   "execution_count": 6,
   "metadata": {
    "collapsed": true
   },
   "outputs": [],
   "source": [
    "rcParams.update({'figure.autolayout': True})"
   ]
  },
  {
   "cell_type": "code",
   "execution_count": 7,
   "metadata": {
    "collapsed": true
   },
   "outputs": [],
   "source": [
    "from matplotlib import rc\n",
    "rc('font',**{'family':'sans-serif','sans-serif':['Helvetica']})\n",
    "# matplotlib.rc('font', family='Arial')\n",
    "## for Palatino and other serif fonts use:\n",
    "# rc('font',**{'family':'serif','serif':['Palatino']})\n",
    "rc('text', usetex=True)"
   ]
  },
  {
   "cell_type": "code",
   "execution_count": 8,
   "metadata": {
    "collapsed": true
   },
   "outputs": [],
   "source": [
    "python_file = 'recast.py'\n",
    "# trace = '../traces/USC/usc-parsed.trace'\n",
    "# trace = '../traces/USC/usc_filter.txt'\n",
    "# trace = '../traces/dartmouth/dartmouth-parsed.trace'\n",
    "# trace = '../traces/wdm/wdm-default-filter.txt'\n",
    "trace = '../traces/slaw/slaw_a35_v06-filter.txt'\n",
    "timestep = '86400'\n",
    "sys.argv = [python_file, trace, timestep]\n",
    "path = os.path.split(trace)[0]\n",
    "trace_name = os.path.split(trace)[1].split('.')[0]"
   ]
  },
  {
   "cell_type": "code",
   "execution_count": 9,
   "metadata": {
    "scrolled": true
   },
   "outputs": [
    {
     "name": "stdout",
     "output_type": "stream",
     "text": [
      "-- reading input file ../traces/slaw/slaw_a35_v06-filter.txt -- \n"
     ]
    }
   ],
   "source": [
    "recast.main()"
   ]
  },
  {
   "cell_type": "code",
   "execution_count": null,
   "metadata": {
    "collapsed": true
   },
   "outputs": [],
   "source": []
  },
  {
   "cell_type": "code",
   "execution_count": null,
   "metadata": {
    "collapsed": true
   },
   "outputs": [],
   "source": []
  },
  {
   "cell_type": "markdown",
   "metadata": {},
   "source": [
    "# Clustering coefficient"
   ]
  },
  {
   "cell_type": "markdown",
   "metadata": {},
   "source": [
    "###### Slow, depending on the size of the graph"
   ]
  },
  {
   "cell_type": "code",
   "execution_count": 11,
   "metadata": {
    "collapsed": true
   },
   "outputs": [],
   "source": [
    "def clustering(graphs):\n",
    "    l = []\n",
    "    for k, graph in graphs.iteritems():\n",
    "        if len(graph) == 0:\n",
    "            l.append(0)\n",
    "            continue\n",
    "        print \"calculating average clustering for graph {} with #nodes = {} and #edges = {}\".format(k, len(graph.nodes()), len(graph.edges()))\n",
    "        l.append(nx.average_clustering(graph, count_zeros=True))\n",
    "        \n",
    "    return l"
   ]
  },
  {
   "cell_type": "code",
   "execution_count": 12,
   "metadata": {
    "collapsed": true
   },
   "outputs": [],
   "source": [
    "cc_x = range(1, 30)"
   ]
  },
  {
   "cell_type": "code",
   "execution_count": 13,
   "metadata": {
    "scrolled": true
   },
   "outputs": [
    {
     "name": "stdout",
     "output_type": "stream",
     "text": [
      "calculating average clustering for graph 0 with #nodes = 98 and #edges = 285\n",
      "calculating average clustering for graph 1 with #nodes = 98 and #edges = 275\n",
      "calculating average clustering for graph 2 with #nodes = 100 and #edges = 287\n",
      "calculating average clustering for graph 3 with #nodes = 99 and #edges = 278\n",
      "calculating average clustering for graph 4 with #nodes = 97 and #edges = 277\n",
      "calculating average clustering for graph 5 with #nodes = 99 and #edges = 282\n",
      "calculating average clustering for graph 6 with #nodes = 100 and #edges = 273\n",
      "calculating average clustering for graph 7 with #nodes = 99 and #edges = 289\n",
      "calculating average clustering for graph 8 with #nodes = 100 and #edges = 286\n",
      "calculating average clustering for graph 9 with #nodes = 100 and #edges = 278\n",
      "calculating average clustering for graph 10 with #nodes = 97 and #edges = 274\n",
      "calculating average clustering for graph 11 with #nodes = 99 and #edges = 299\n",
      "calculating average clustering for graph 12 with #nodes = 100 and #edges = 285\n",
      "calculating average clustering for graph 13 with #nodes = 100 and #edges = 294\n",
      "calculating average clustering for graph 14 with #nodes = 100 and #edges = 275\n"
     ]
    }
   ],
   "source": [
    "# send the temporal accumulator graph\n",
    "# cc_y_t = clustering(recast.temporal_accumulator_graphs)\n",
    "cc_y_t = clustering(recast.temporal_graphs)"
   ]
  },
  {
   "cell_type": "code",
   "execution_count": 14,
   "metadata": {},
   "outputs": [
    {
     "name": "stdout",
     "output_type": "stream",
     "text": [
      "calculating average clustering for graph 0 with #nodes = 98 and #edges = 288\n",
      "calculating average clustering for graph 1 with #nodes = 98 and #edges = 290\n",
      "calculating average clustering for graph 2 with #nodes = 100 and #edges = 278\n",
      "calculating average clustering for graph 3 with #nodes = 99 and #edges = 272\n",
      "calculating average clustering for graph 4 with #nodes = 97 and #edges = 273\n",
      "calculating average clustering for graph 5 with #nodes = 99 and #edges = 289\n",
      "calculating average clustering for graph 6 with #nodes = 100 and #edges = 307\n",
      "calculating average clustering for graph 7 with #nodes = 99 and #edges = 287\n",
      "calculating average clustering for graph 8 with #nodes = 100 and #edges = 276\n",
      "calculating average clustering for graph 9 with #nodes = 100 and #edges = 244\n",
      "calculating average clustering for graph 10 with #nodes = 97 and #edges = 265\n",
      "calculating average clustering for graph 11 with #nodes = 99 and #edges = 279\n",
      "calculating average clustering for graph 12 with #nodes = 100 and #edges = 293\n",
      "calculating average clustering for graph 13 with #nodes = 100 and #edges = 309\n",
      "calculating average clustering for graph 14 with #nodes = 100 and #edges = 280\n"
     ]
    }
   ],
   "source": [
    "# send the random temporal accumulator graph\n",
    "# cc_y_r = clustering(recast.random_temporal_accumulator_graphs)\n",
    "cc_y_r = clustering(recast.random_graphs)"
   ]
  },
  {
   "cell_type": "code",
   "execution_count": 15,
   "metadata": {},
   "outputs": [
    {
     "name": "stderr",
     "output_type": "stream",
     "text": [
      "/usr/local/lib/python2.7/site-packages/matplotlib/figure.py:1742: UserWarning: This figure includes Axes that are not compatible with tight_layout, so its results might be incorrect.\n",
      "  warnings.warn(\"This figure includes Axes that are not \"\n"
     ]
    },
    {
     "data": {
      "image/png": "[encoded data removed]",
      "text/plain": [
       "<matplotlib.figure.Figure at 0x1122faf10>"
      ]
     },
     "metadata": {},
     "output_type": "display_data"
    }
   ],
   "source": [
    "plt.plot(cc_x, cc_y_t, marker='o', label='Grafo Real')\n",
    "plt.plot(cc_x, cc_y_r, marker='x', label='Grafo Aleatorio')\n",
    "plt.title('coef. de clusterizacao ' + trace_name.split('_')[0])\n",
    "plt.ylim(0, 1)\n",
    "plt.xlim(0, 28)\n",
    "plt.ylabel(\"Coeficiente de clusterizacao\")\n",
    "plt.xlabel(\"Tempo t (dias)\")\n",
    "plt.legend()\n",
    "plt.grid()"
   ]
  },
  {
   "cell_type": "code",
   "execution_count": null,
   "metadata": {
    "collapsed": true
   },
   "outputs": [],
   "source": []
  },
  {
   "cell_type": "code",
   "execution_count": null,
   "metadata": {
    "collapsed": true
   },
   "outputs": [],
   "source": []
  },
  {
   "cell_type": "code",
   "execution_count": null,
   "metadata": {
    "collapsed": true
   },
   "outputs": [],
   "source": []
  },
  {
   "cell_type": "code",
   "execution_count": null,
   "metadata": {
    "collapsed": true
   },
   "outputs": [],
   "source": []
  },
  {
   "cell_type": "code",
   "execution_count": null,
   "metadata": {
    "collapsed": true
   },
   "outputs": [],
   "source": []
  },
  {
   "cell_type": "markdown",
   "metadata": {
    "collapsed": true
   },
   "source": [
    "# Edge persistence"
   ]
  },
  {
   "cell_type": "code",
   "execution_count": 16,
   "metadata": {
    "collapsed": true
   },
   "outputs": [],
   "source": [
    "ep = classifier.get_ep(recast.temporal_graphs)\n",
    "flatten_ep = np.array(ep.values()).flatten()"
   ]
  },
  {
   "cell_type": "code",
   "execution_count": 17,
   "metadata": {
    "collapsed": true
   },
   "outputs": [],
   "source": [
    "random_ep = classifier.get_ep(recast.random_graphs)\n",
    "flatten_random_ep = np.array(random_ep.values()).flatten()"
   ]
  },
  {
   "cell_type": "code",
   "execution_count": 18,
   "metadata": {},
   "outputs": [
    {
     "data": {
      "image/png": "[encoded data removed]",
      "text/plain": [
       "<matplotlib.figure.Figure at 0x1123c3590>"
      ]
     },
     "metadata": {},
     "output_type": "display_data"
    }
   ],
   "source": [
    "x = np.linspace(0.0, 1.0, 100)\n",
    "y = ecdf.calc_ecdf(flatten_ep)\n",
    "y_r = ecdf.calc_ecdf(flatten_random_ep)\n",
    "\n",
    "# yrange = [0, 10**(-6), 10**(-3), 10**(0)]\n",
    "# ylabels = ['10^-6', '10^-3', '10^-0']\n",
    "\n",
    "plt.plot(x, y, marker='o', label='Grafo Real')\n",
    "plt.plot(x, y_r, marker='x', label='Grafo Aleatorio')\n",
    "\n",
    "plt.yscale('log', basey=10)\n",
    "plt.xlim(0, 1)\n",
    "plt.ylim ([10**(-7), 10**(0)])\n",
    "\n",
    "plt.title(\"persistence \" + trace_name.split('_')[0])\n",
    "\n",
    "plt.ylabel('$P[per(i, j) > x]$')\n",
    "plt.xlabel('$x$ [persistence]')\n",
    "\n",
    "plt.legend(bbox_to_anchor=(0.98,0.05), loc=4, borderaxespad=0.)\n",
    "# plt.legend()\n",
    "plt.grid()\n",
    "plt.show()\n",
    "\n"
   ]
  },
  {
   "cell_type": "code",
   "execution_count": 19,
   "metadata": {
    "scrolled": false
   },
   "outputs": [
    {
     "data": {
      "text/plain": [
       "0.51724137931034486"
      ]
     },
     "execution_count": 19,
     "metadata": {},
     "output_type": "execute_result"
    }
   ],
   "source": [
    "classifier.get_x(random_ep, 0.001)"
   ]
  },
  {
   "cell_type": "code",
   "execution_count": null,
   "metadata": {
    "collapsed": true
   },
   "outputs": [],
   "source": []
  },
  {
   "cell_type": "code",
   "execution_count": null,
   "metadata": {
    "collapsed": true
   },
   "outputs": [],
   "source": []
  },
  {
   "cell_type": "code",
   "execution_count": null,
   "metadata": {
    "collapsed": true
   },
   "outputs": [],
   "source": []
  },
  {
   "cell_type": "code",
   "execution_count": null,
   "metadata": {
    "collapsed": true
   },
   "outputs": [],
   "source": []
  },
  {
   "cell_type": "markdown",
   "metadata": {
    "collapsed": true
   },
   "source": [
    "# topological overlap"
   ]
  },
  {
   "cell_type": "code",
   "execution_count": 20,
   "metadata": {
    "collapsed": true
   },
   "outputs": [],
   "source": [
    "to = classifier.get_to(recast.aggregated_graph)\n",
    "flatten_to = np.array(to.values()).flatten()"
   ]
  },
  {
   "cell_type": "code",
   "execution_count": 21,
   "metadata": {
    "collapsed": true
   },
   "outputs": [],
   "source": [
    "random_to = classifier.get_to(recast.random_aggregated_graph)\n",
    "flatten_random_to = np.array(random_to.values()).flatten()"
   ]
  },
  {
   "cell_type": "code",
   "execution_count": 22,
   "metadata": {},
   "outputs": [
    {
     "data": {
      "image/png": "[encoded data removed]",
      "text/plain": [
       "<matplotlib.figure.Figure at 0x1122fa710>"
      ]
     },
     "metadata": {},
     "output_type": "display_data"
    }
   ],
   "source": [
    "x = np.linspace(0.0, 1.0, 100)\n",
    "y = ecdf.calc_ecdf(flatten_to)\n",
    "y_r = ecdf.calc_ecdf(flatten_random_to)\n",
    "\n",
    "# yrange = [0, 10**(-6), 10**(-3), 10**(0)]\n",
    "# ylabels = ['10^-6', '10^-3', '10^-0']\n",
    "\n",
    "plt.plot(x, y, marker='o', label='Grafo Real')\n",
    "plt.plot(x, y_r, marker='x', label='Grafo Aleatorio')\n",
    "\n",
    "plt.yscale('log', basey=10)\n",
    "plt.xlim(0, 1)\n",
    "# plt.ylim ([10**(-8), 10**(0)])\n",
    "plt.ylim ([10**(-6), 10**(0)])\n",
    "\n",
    "plt.title(\"topological overlap \" + trace_name.split('_')[0])\n",
    "\n",
    "plt.ylabel(r'$P[to(i, j) > x]$')\n",
    "plt.xlabel(\"$x$ [topological overlap]\")\n",
    "\n",
    "plt.legend(bbox_to_anchor=(0.05, 0.1), loc='lower left', borderaxespad=0.)\n",
    "# plt.legend()\n",
    "plt.grid()\n",
    "plt.show()\n",
    "\n"
   ]
  },
  {
   "cell_type": "code",
   "execution_count": 23,
   "metadata": {},
   "outputs": [
    {
     "data": {
      "text/plain": [
       "0.85363962202671884"
      ]
     },
     "execution_count": 23,
     "metadata": {},
     "output_type": "execute_result"
    }
   ],
   "source": [
    "classifier.get_x(random_to, 1e-3)"
   ]
  },
  {
   "cell_type": "code",
   "execution_count": null,
   "metadata": {
    "collapsed": true
   },
   "outputs": [],
   "source": []
  },
  {
   "cell_type": "code",
   "execution_count": null,
   "metadata": {
    "collapsed": true
   },
   "outputs": [],
   "source": []
  },
  {
   "cell_type": "code",
   "execution_count": null,
   "metadata": {
    "collapsed": true
   },
   "outputs": [],
   "source": []
  },
  {
   "cell_type": "code",
   "execution_count": null,
   "metadata": {
    "collapsed": true
   },
   "outputs": [],
   "source": []
  },
  {
   "cell_type": "code",
   "execution_count": null,
   "metadata": {
    "collapsed": true
   },
   "outputs": [],
   "source": []
  },
  {
   "cell_type": "code",
   "execution_count": null,
   "metadata": {
    "collapsed": true
   },
   "outputs": [],
   "source": []
  },
  {
   "cell_type": "code",
   "execution_count": null,
   "metadata": {
    "collapsed": true
   },
   "outputs": [],
   "source": []
  },
  {
   "cell_type": "markdown",
   "metadata": {},
   "source": [
    "# tempo"
   ]
  },
  {
   "cell_type": "code",
   "execution_count": null,
   "metadata": {
    "collapsed": true
   },
   "outputs": [],
   "source": []
  },
  {
   "cell_type": "code",
   "execution_count": null,
   "metadata": {
    "collapsed": true
   },
   "outputs": [],
   "source": [
    "delta = classifier.get_delta(recast.temporal_graphs)\n",
    "flatten_delta = np.array(delta.values()).flatten()"
   ]
  },
  {
   "cell_type": "code",
   "execution_count": null,
   "metadata": {
    "collapsed": true,
    "scrolled": true
   },
   "outputs": [],
   "source": [
    "classifier.set_delta (recast.random_graphs, recast.temporal_graphs)"
   ]
  },
  {
   "cell_type": "code",
   "execution_count": null,
   "metadata": {
    "collapsed": true
   },
   "outputs": [],
   "source": [
    "random_delta = classifier.get_delta(recast.random_graphs)\n",
    "flatten_random_delta = np.array(random_delta.values()).flatten()"
   ]
  },
  {
   "cell_type": "markdown",
   "metadata": {},
   "source": [
    "### teste"
   ]
  },
  {
   "cell_type": "code",
   "execution_count": null,
   "metadata": {
    "collapsed": true
   },
   "outputs": [],
   "source": [
    "# tgraph = {\n",
    "#     0: nx.Graph([ (0, 1, {'delta': 10}), (1, 2, {'delta': 1}) ]),\n",
    "#     1: nx.Graph([ (0, 1, {'delta': 9}), (1, 2, {'delta': 1}), (0, 2, {'delta': 1}) ]),\n",
    "#     2: nx.Graph([ (0, 1, {'delta': 12}), (1, 2, {'delta': 1}), (0, 2, {'delta': 1}) ]),\n",
    "# }\n",
    "\n",
    "# rgraph = {\n",
    "#     0: nx.Graph([ (0, 1, {'delta': 1}), (1, 2, {'delta': 9}) ]),\n",
    "#     1: nx.Graph([ (0, 1, {'delta': 12}), (1, 2, {'delta': 1}), (0, 2, {'delta': 1}) ]),\n",
    "#     2: nx.Graph([ (0, 1, {'delta': 1}), (1, 2, {'delta': 1}), (0, 2, {'delta': 12}) ]),\n",
    "# }\n",
    "\n",
    "# delta = classifier.get_delta(tgraph)\n",
    "# flatten_delta = np.array(delta.values()).flatten()\n",
    "# random_delta = classifier.get_delta(rgraph)\n",
    "# flatten_random_delta = np.array(random_delta.values()).flatten()"
   ]
  },
  {
   "cell_type": "code",
   "execution_count": null,
   "metadata": {
    "collapsed": true,
    "scrolled": false
   },
   "outputs": [],
   "source": [
    "x = np.linspace(\n",
    "    0,\n",
    "    np.max(np.append (flatten_delta, flatten_random_delta)),\n",
    "    100\n",
    ")\n",
    "\n",
    "y = ecdf.calc_ecdf(flatten_delta, linspace=x)\n",
    "y_r = ecdf.calc_ecdf(flatten_random_delta, linspace=x)\n",
    "\n",
    "plt.plot(x, y, marker='|', label='Grafo Real')\n",
    "plt.plot(x, y_r, marker='x', label='Grafo Aleatorio')\n",
    "\n",
    "plt.yscale('log')\n",
    "plt.xscale('log')\n",
    "\n",
    "# plt.xlim(0, 1e2)\n",
    "# plt.ylim ([0.8, 1])\n",
    "\n",
    "\n",
    "plt.title(\"Tempo \" + trace_name.split('_')[0])\n",
    "\n",
    "plt.ylabel(r'$P[time(i, j) > x]$')\n",
    "plt.xlabel(\"$x$ [time]\")\n",
    "\n",
    "plt.legend(bbox_to_anchor=(0.97, 0.97), loc='upper right', borderaxespad=0.)\n",
    "plt.grid()\n",
    "\n",
    "plt.show()\n",
    "\n"
   ]
  },
  {
   "cell_type": "code",
   "execution_count": null,
   "metadata": {
    "collapsed": true
   },
   "outputs": [],
   "source": [
    "aux = 0\n",
    "pr = 1e0\n",
    "x = classifier.get_x(random_delta, pr)\n",
    "for i in delta.itervalues():\n",
    "    if i > 86400*3:\n",
    "        aux += 1\n",
    "\n",
    "print aux"
   ]
  },
  {
   "cell_type": "code",
   "execution_count": null,
   "metadata": {
    "collapsed": true
   },
   "outputs": [],
   "source": [
    "classifier.get_x(random_delta, 1e-6)"
   ]
  },
  {
   "cell_type": "code",
   "execution_count": null,
   "metadata": {
    "collapsed": true
   },
   "outputs": [],
   "source": [
    "aux = 0\n",
    "pr = 1e0\n",
    "x = classifier.get_x(random_delta, pr)\n",
    "for i in delta.itervalues():\n",
    "    if i > x:\n",
    "        aux += 1\n",
    "\n",
    "print (aux*100.0)/len(delta)"
   ]
  },
  {
   "cell_type": "code",
   "execution_count": null,
   "metadata": {
    "collapsed": true
   },
   "outputs": [],
   "source": []
  },
  {
   "cell_type": "markdown",
   "metadata": {
    "collapsed": true
   },
   "source": [
    "# Save results"
   ]
  },
  {
   "cell_type": "code",
   "execution_count": 24,
   "metadata": {
    "collapsed": true
   },
   "outputs": [],
   "source": [
    "p_rnd = [1e-6, 1e-5, 1e-4, 1e-3,]"
   ]
  },
  {
   "cell_type": "code",
   "execution_count": 34,
   "metadata": {
    "collapsed": true
   },
   "outputs": [],
   "source": [
    "def save_edges(fname='', ext=''):\n",
    "    \n",
    "    for p in p_rnd:\n",
    "\n",
    "        x_ep = classifier.get_x (random_ep, p)\n",
    "        x_to = classifier.get_x (random_to, p)\n",
    "\n",
    "        relations = dict()\n",
    "\n",
    "        f = open(fname + str(p) + ext, 'w')\n",
    "        print ('saving {}'.format(fname + str(p) + ext))\n",
    "\n",
    "        for edge in recast.aggregated_graph.edges_iter():#ep.iterkeys():\n",
    "            x = edge[0]\n",
    "            y = edge[1]\n",
    "            f.write(str(x) + ' ' + str(y) + ' ')\n",
    "            if (ep[edge] > x_ep and to[edge] > x_to):\n",
    "                f.write(str(classifier.friends) + '\\n')\n",
    "            elif (ep[edge] <= x_ep and to[edge] > x_to):\n",
    "                f.write(str(classifier.acquaintance) + '\\n')\n",
    "            elif (ep[edge] > x_ep and to[edge] <= x_to):\n",
    "                f.write(str(classifier.bridges) + '\\n')\n",
    "            else:\n",
    "                f.write(str(classifier.random) + '\\n')\n",
    "                \n",
    "            f.write(str(y) + ' ' + str(x) + ' ')\n",
    "            if (ep[edge] > x_ep and to[edge] > x_to):\n",
    "                f.write(str(classifier.friends) + '\\n')\n",
    "            elif (ep[edge] <= x_ep and to[edge] > x_to):\n",
    "                f.write(str(classifier.acquaintance) + '\\n')\n",
    "            elif (ep[edge] > x_ep and to[edge] <= x_to):\n",
    "                f.write(str(classifier.bridges) + '\\n')\n",
    "            else:\n",
    "                f.write(str(classifier.random) + '\\n')\n",
    "\n",
    "        f.close()"
   ]
  },
  {
   "cell_type": "code",
   "execution_count": 36,
   "metadata": {},
   "outputs": [
    {
     "name": "stdout",
     "output_type": "stream",
     "text": [
      "saving recast_class/slaw_a35/1e-06.txt\n",
      "saving recast_class/slaw_a35/1e-05.txt\n",
      "saving recast_class/slaw_a35/0.0001.txt\n",
      "saving recast_class/slaw_a35/0.001.txt\n"
     ]
    }
   ],
   "source": [
    "save_edges(fname='recast_class' + os.sep + 'slaw_a35/', ext='.txt')"
   ]
  },
  {
   "cell_type": "markdown",
   "metadata": {
    "collapsed": true
   },
   "source": [
    "# Classify results"
   ]
  },
  {
   "cell_type": "code",
   "execution_count": 75,
   "metadata": {
    "collapsed": true
   },
   "outputs": [],
   "source": [
    "p_rnd = [10**(-6), 10**(-5), 10**(-4), 10**(-3)]"
   ]
  },
  {
   "cell_type": "code",
   "execution_count": 76,
   "metadata": {
    "collapsed": true
   },
   "outputs": [],
   "source": [
    "def classify (ep, random_ep, to, random_to, p_rnd):\n",
    "    # print 'classifying edge persistence'\n",
    "    # rep = classify_ep (ep, random_ep, p_rnd)\n",
    "\n",
    "    # print 'classifying topological overlap'\n",
    "    # rto = classify_to (to, random_to, p_rnd)\n",
    "    \n",
    "    # print 'combining edge persistence and topological overlap'\n",
    "    # relations = classify_relationships (rep, rto)\n",
    "    # return relations\n",
    "\n",
    "    x_ep = classifier.get_x (random_ep, p_rnd)\n",
    "    x_to = classifier.get_x (random_to, p_rnd)\n",
    "    \n",
    "    print x_ep, x_to\n",
    "    \n",
    "    x_to -= 0.15\n",
    "\n",
    "    relations = dict()\n",
    "\n",
    "    for edge in recast.aggregated_graph.edges_iter():#ep.iterkeys():\n",
    "        if (ep[edge] > x_ep and to[edge] > x_to):\n",
    "            relations[edge] = classifier.friends\n",
    "        elif (ep[edge] <= x_ep and to[edge] > x_to):\n",
    "            relations[edge] = classifier.acquaintance\n",
    "        elif (ep[edge] > x_ep and to[edge] <= x_to):\n",
    "            relations[edge] = classifier.bridges\n",
    "        else:\n",
    "            relations[edge] = classifier.random\n",
    "\n",
    "    return relations"
   ]
  },
  {
   "cell_type": "code",
   "execution_count": 77,
   "metadata": {},
   "outputs": [
    {
     "name": "stdout",
     "output_type": "stream",
     "text": [
      "classify for p_rnd 1e-06\n",
      "0.51724137931 0.98\n",
      "\n",
      "classify for p_rnd 1e-05\n",
      "0.51724137931 0.98\n",
      "\n",
      "classify for p_rnd 0.0001\n",
      "0.51724137931 0.98\n",
      "\n",
      "classify for p_rnd 0.001\n",
      "0.51724137931 0.98\n",
      "\n"
     ]
    }
   ],
   "source": [
    "results = []\n",
    "for p in p_rnd:\n",
    "#     results.append(classifier.classify(ep, random_ep, to, random_to, p))\n",
    "    print 'classify for p_rnd', p\n",
    "    results.append(classify(ep, random_ep, to, random_to, p))\n",
    "    print\n"
   ]
  },
  {
   "cell_type": "code",
   "execution_count": 78,
   "metadata": {
    "collapsed": true
   },
   "outputs": [],
   "source": [
    "friends = []\n",
    "random = []\n",
    "bridges = []\n",
    "acquaintance = []\n",
    "for i in results:\n",
    "    r = classifier.combine_relations(i)\n",
    "    random.append(r[0])\n",
    "    friends.append(r[2])\n",
    "    acquaintance.append(r[3])\n",
    "    bridges.append(r[4])"
   ]
  },
  {
   "cell_type": "code",
   "execution_count": 79,
   "metadata": {},
   "outputs": [
    {
     "data": {
      "text/plain": [
       "[0, 0, 0, 0]"
      ]
     },
     "execution_count": 79,
     "metadata": {},
     "output_type": "execute_result"
    }
   ],
   "source": [
    "friends"
   ]
  },
  {
   "cell_type": "code",
   "execution_count": 80,
   "metadata": {},
   "outputs": [
    {
     "data": {
      "text/plain": [
       "[0, 0, 0, 0]"
      ]
     },
     "execution_count": 80,
     "metadata": {},
     "output_type": "execute_result"
    }
   ],
   "source": [
    "random"
   ]
  },
  {
   "cell_type": "code",
   "execution_count": 81,
   "metadata": {},
   "outputs": [
    {
     "data": {
      "text/plain": [
       "[0, 0, 0, 0]"
      ]
     },
     "execution_count": 81,
     "metadata": {},
     "output_type": "execute_result"
    }
   ],
   "source": [
    "bridges"
   ]
  },
  {
   "cell_type": "code",
   "execution_count": 82,
   "metadata": {},
   "outputs": [
    {
     "data": {
      "text/plain": [
       "[4950, 4950, 4950, 4950]"
      ]
     },
     "execution_count": 82,
     "metadata": {},
     "output_type": "execute_result"
    }
   ],
   "source": [
    "acquaintance"
   ]
  },
  {
   "cell_type": "code",
   "execution_count": 35,
   "metadata": {},
   "outputs": [
    {
     "data": {
      "text/plain": [
       "[22645, 22645, 22645, 22645]"
      ]
     },
     "execution_count": 35,
     "metadata": {},
     "output_type": "execute_result"
    }
   ],
   "source": [
    "map (sum, zip(friends, bridges, random, acquaintance))"
   ]
  },
  {
   "cell_type": "code",
   "execution_count": 83,
   "metadata": {},
   "outputs": [
    {
     "data": {
      "image/png": "[encoded data removed]",
      "text/plain": [
       "<matplotlib.figure.Figure at 0x11991a410>"
      ]
     },
     "metadata": {},
     "output_type": "display_data"
    }
   ],
   "source": [
    "plt.plot(p_rnd, friends, marker='x', label='Amigos', color='blue')\n",
    "plt.plot(p_rnd, bridges, marker='+', label='Pontes', color='red')\n",
    "plt.plot(p_rnd, acquaintance, marker='s', label='Conhecidos', color='gray')\n",
    "plt.plot(p_rnd, random, marker='o', label='Desconhecidos', color='orange')\n",
    "\n",
    "# plt.xticks(p_rnd)\n",
    "\n",
    "# plt.xlim ([10**(-6), 10**(-3)])\n",
    "plt.yscale('log', basey=10)\n",
    "plt.xscale('log', basey=10)\n",
    "\n",
    "plt.ylim ([1e3, 1e6])\n",
    "\n",
    "# plt.yticks(yrange, ylabels)\n",
    "\n",
    "plt.title(r'Classificacao ' + trace_name.split('_')[0])\n",
    "\n",
    "plt.ylabel(\"Numero de arestas\")\n",
    "plt.xlabel(r'$p_{rnd}$')\n",
    "\n",
    "plt.legend(bbox_to_anchor=(0.97, 0.97), loc='upper right', borderaxespad=0.)\n",
    "\n",
    "plt.show()\n",
    "\n"
   ]
  },
  {
   "cell_type": "code",
   "execution_count": null,
   "metadata": {
    "collapsed": true
   },
   "outputs": [],
   "source": []
  },
  {
   "cell_type": "code",
   "execution_count": null,
   "metadata": {
    "collapsed": true
   },
   "outputs": [],
   "source": []
  },
  {
   "cell_type": "code",
   "execution_count": null,
   "metadata": {
    "collapsed": true
   },
   "outputs": [],
   "source": []
  },
  {
   "cell_type": "code",
   "execution_count": null,
   "metadata": {
    "collapsed": true
   },
   "outputs": [],
   "source": []
  },
  {
   "cell_type": "markdown",
   "metadata": {},
   "source": [
    "# Classify with time"
   ]
  },
  {
   "cell_type": "code",
   "execution_count": null,
   "metadata": {
    "collapsed": true
   },
   "outputs": [],
   "source": [
    "p_rnd = [1e-6, 1e-5, 1e-4, 1e-3,]"
   ]
  },
  {
   "cell_type": "code",
   "execution_count": null,
   "metadata": {
    "collapsed": true
   },
   "outputs": [],
   "source": [
    "def classify (ep, random_ep, to, random_to, delta, random_delta, p_rnd):\n",
    "    # print 'classifying edge persistence'\n",
    "    # rep = classify_ep (ep, random_ep, p_rnd)\n",
    "\n",
    "    # print 'classifying topological overlap'\n",
    "    # rto = classify_to (to, random_to, p_rnd)\n",
    "    \n",
    "    # print 'combining edge persistence and topological overlap'\n",
    "    # relations = classify_relationships (rep, rto)\n",
    "    # return relations\n",
    "    \n",
    "    def rev_edge (edge):\n",
    "        if (edge not in delta):\n",
    "            return (edge[1], edge[0])\n",
    "        return edge\n",
    "\n",
    "    x_ep = classifier.get_x (random_ep, p_rnd)\n",
    "    x_to = classifier.get_x (random_to, p_rnd)\n",
    "    x_time = classifier.get_x(random_delta, p_rnd)\n",
    "\n",
    "    x_to -= 0.15\n",
    "    \n",
    "    print x_ep, x_to, x_time\n",
    "\n",
    "    relations = dict()\n",
    "\n",
    "    for edge in ep.iterkeys():\n",
    "        if (ep[edge] > x_ep and to[edge] > x_to and delta[rev_edge(edge)] > x_time):\n",
    "            relations[edge] = 'ppp'\n",
    "        elif (ep[edge] > x_ep and to[edge] > x_to and delta[rev_edge(edge)] <= x_time):\n",
    "            relations[edge] = 'ppn'\n",
    "        elif (ep[edge] > x_ep and to[edge] <= x_to and delta[rev_edge(edge)] > x_time):\n",
    "            relations[edge] = 'pnp'\n",
    "        elif (ep[edge] > x_ep and to[edge] <= x_to and delta[rev_edge(edge)] <= x_time):\n",
    "            relations[edge] = 'pnn'\n",
    "        elif (ep[edge] <= x_ep and to[edge] > x_to and delta[rev_edge(edge)] > x_time):\n",
    "            relations[edge] = 'npp'\n",
    "        elif (ep[edge] <= x_ep and to[edge] > x_to and delta[rev_edge(edge)] <= x_time):\n",
    "            relations[edge] = 'npn'\n",
    "        elif (ep[edge] <= x_ep and to[edge] <= x_to and delta[rev_edge(edge)] > x_time):\n",
    "            relations[edge] = 'nnp'\n",
    "        elif (ep[edge] <= x_ep and to[edge] <= x_to and delta[rev_edge(edge)] <= x_time):\n",
    "            relations[edge] = 'nnn'\n",
    "\n",
    "    return relations"
   ]
  },
  {
   "cell_type": "code",
   "execution_count": null,
   "metadata": {
    "collapsed": true
   },
   "outputs": [],
   "source": [
    "results = []\n",
    "for i, p in enumerate(p_rnd):\n",
    "#     results.append(classifier.classify(ep, random_ep, to, random_to, p))\n",
    "    print 'classify for p_rnd', p\n",
    "    results.append(classify(ep, random_ep, to, random_to, delta, random_delta, p))\n",
    "    print\n"
   ]
  },
  {
   "cell_type": "code",
   "execution_count": null,
   "metadata": {
    "collapsed": true
   },
   "outputs": [],
   "source": [
    "ppp, ppn, pnp, pnn, npp, npn, nnp, nnn = [], [], [], [], [], [], [], []\n",
    "for i in results:\n",
    "    r = classifier.combine_relations_with_time(i)\n",
    "    ppp.append(r['ppp'])\n",
    "    ppn.append(r['ppn'])\n",
    "    pnp.append(r['pnp'])\n",
    "    pnn.append(r['pnn'])\n",
    "    npp.append(r['npp'])\n",
    "    npn.append(r['npn'])\n",
    "    nnp.append(r['nnp'])\n",
    "    nnn.append(r['nnn'])"
   ]
  },
  {
   "cell_type": "code",
   "execution_count": null,
   "metadata": {
    "collapsed": true
   },
   "outputs": [],
   "source": [
    "map (sum, zip(ppp, ppn, pnp, pnn, npp, npn, nnp, nnn))"
   ]
  },
  {
   "cell_type": "code",
   "execution_count": null,
   "metadata": {
    "collapsed": true
   },
   "outputs": [],
   "source": [
    "plt.plot(p_rnd, ppp, marker='x', label='Super Amigos', )\n",
    "plt.plot(p_rnd, ppn, marker='+', label='Amigos', )\n",
    "plt.plot(p_rnd, pnp, marker='s', label='Super Pontes', )\n",
    "plt.plot(p_rnd, pnn, marker='o', label='Pontes', )\n",
    "plt.plot(p_rnd, npp, marker='>', label='Super Conhecidos', )\n",
    "plt.plot(p_rnd, npn, marker='v', label='Conhecidos', )\n",
    "plt.plot(p_rnd, nnp, marker='*', label='Anomalia', )\n",
    "plt.plot(p_rnd, nnn, marker='<', label='Desconhecidos', )\n",
    "\n",
    "# plt.xticks(p_rnd)\n",
    "\n",
    "# plt.xlim ([10**(-6), 10**(-3)])\n",
    "plt.yscale('log', basey=10)\n",
    "plt.xscale('log', basey=10)\n",
    "\n",
    "# plt.ylim ([1e3, 1e6])\n",
    "\n",
    "# plt.yticks(yrange, ylabels)\n",
    "\n",
    "plt.title('Classificacao ' + trace_name.split('_')[0])\n",
    "\n",
    "\n",
    "plt.ylabel(\"Numero de arestas\")\n",
    "plt.xlabel(r'$p_{rnd}$')\n",
    "\n",
    "plt.legend(bbox_to_anchor=(1.05, 1), loc=2, borderaxespad=0.)\n",
    "plt.show()\n",
    "\n"
   ]
  },
  {
   "cell_type": "markdown",
   "metadata": {},
   "source": [
    "$NPP$ e $NNP$ são pessoas que não se encontram regularmente/não compartilham muitas amizades mas por algum motivo tem um tempo de encontro $T$ bem alto "
   ]
  },
  {
   "cell_type": "code",
   "execution_count": null,
   "metadata": {
    "collapsed": true
   },
   "outputs": [],
   "source": []
  },
  {
   "cell_type": "code",
   "execution_count": null,
   "metadata": {
    "collapsed": true
   },
   "outputs": [],
   "source": []
  },
  {
   "cell_type": "markdown",
   "metadata": {},
   "source": [
    "# Encontros"
   ]
  },
  {
   "cell_type": "code",
   "execution_count": null,
   "metadata": {
    "collapsed": true
   },
   "outputs": [],
   "source": [
    "lines = [line.rstrip('\\n').split(' ') for line in open(trace, 'r')]\n",
    "encounters = []\n",
    "for line in lines:\n",
    "    encounters.append( (int(line[0]), int(line[1]) ) )\n",
    "lines = []"
   ]
  },
  {
   "cell_type": "code",
   "execution_count": null,
   "metadata": {
    "collapsed": true
   },
   "outputs": [],
   "source": [
    "def get_relations(result):\n",
    "    d = dict()\n",
    "    \n",
    "    for e in encounters:\n",
    "        try:\n",
    "            r = result[e]\n",
    "        except:\n",
    "            r = result[(e[1], e[0])]\n",
    "        if r not in d:\n",
    "            d[r] = 0\n",
    "        d[r] += 1\n",
    "    return d"
   ]
  },
  {
   "cell_type": "code",
   "execution_count": null,
   "metadata": {
    "collapsed": true
   },
   "outputs": [],
   "source": [
    "todo = []\n",
    "for result in results:\n",
    "    todo.append(get_relations(result))"
   ]
  },
  {
   "cell_type": "code",
   "execution_count": null,
   "metadata": {
    "collapsed": true
   },
   "outputs": [],
   "source": [
    "def get_fraction(part):\n",
    "    aux = []\n",
    "    for t in todo:\n",
    "        try:\n",
    "            aux.append( 100.0 * float(t[part])/sum(t.values()) )\n",
    "        except:\n",
    "            aux.append(0.0)\n",
    "    return aux"
   ]
  },
  {
   "cell_type": "code",
   "execution_count": null,
   "metadata": {
    "collapsed": true
   },
   "outputs": [],
   "source": [
    "plt.plot(p_rnd, get_fraction(2), marker='x', label='Amigos', color='blue')\n",
    "plt.plot(p_rnd, get_fraction(4), marker='+', label='Pontes', color='red')\n",
    "plt.plot(p_rnd, get_fraction(3), marker='s', label='Conhecidos', color='gray')\n",
    "plt.plot(p_rnd, get_fraction(0), marker='o',label='Desconhecidos', color='orange')\n",
    "\n",
    "# plt.xticks(p_rnd)\n",
    "\n",
    "# plt.xlim ([10**(-6), 10**(-3)])\n",
    "# plt.yscale('log', basey=10)\n",
    "plt.xscale('log', basey=10)\n",
    "\n",
    "plt.ylim ([0, 100])\n",
    "\n",
    "# plt.yticks(yrange, ylabels)\n",
    "\n",
    "plt.title(r'Encontros ' + trace_name.split('_')[0])\n",
    "\n",
    "plt.ylabel(\"\\% de encontros\")\n",
    "plt.xlabel(r'$p_{rnd}$')\n",
    "\n",
    "plt.legend(bbox_to_anchor=(0.97, 0.97), loc='upper right', borderaxespad=0.)\n",
    "\n",
    "plt.show()\n",
    "\n"
   ]
  },
  {
   "cell_type": "code",
   "execution_count": null,
   "metadata": {
    "collapsed": true
   },
   "outputs": [],
   "source": [
    "plt.plot(p_rnd, get_fraction('ppp'), marker='x', label='Super Amigos', )\n",
    "plt.plot(p_rnd, get_fraction('ppn'), marker='+', label='Amigos', )\n",
    "plt.plot(p_rnd, get_fraction('pnp'), marker='s', label='Super Pontes', )\n",
    "plt.plot(p_rnd, get_fraction('pnn'), marker='o', label='Pontes', )\n",
    "plt.plot(p_rnd, get_fraction('npp'), marker='>', label='Super Conhecidos', )\n",
    "plt.plot(p_rnd, get_fraction('npn'), marker='v', label='Conhecidos', )\n",
    "plt.plot(p_rnd, get_fraction('nnp'), marker='*', label='Anomalia', )\n",
    "plt.plot(p_rnd, get_fraction('nnn'), marker='<', label='Desconhecidos', )\n",
    "\n",
    "# plt.xticks(p_rnd)\n",
    "\n",
    "# plt.xlim ([10**(-6), 10**(-3)])\n",
    "# plt.yscale('log', basey=2)\n",
    "plt.xscale('log', basey=10)\n",
    "\n",
    "plt.ylim ([0, 100])\n",
    "\n",
    "# plt.yticks(yrange, ylabels)\n",
    "\n",
    "plt.title('Encontros ' + trace_name.split('_')[0])\n",
    "\n",
    "\n",
    "plt.ylabel(\"\\% de encontros\")\n",
    "plt.xlabel(r'$p_{rnd}$')\n",
    "\n",
    "plt.legend(bbox_to_anchor=(1.05, 1), loc=2, borderaxespad=0.)\n",
    "plt.show()\n"
   ]
  },
  {
   "cell_type": "code",
   "execution_count": null,
   "metadata": {
    "collapsed": true
   },
   "outputs": [],
   "source": []
  },
  {
   "cell_type": "code",
   "execution_count": null,
   "metadata": {
    "collapsed": true
   },
   "outputs": [],
   "source": []
  },
  {
   "cell_type": "code",
   "execution_count": null,
   "metadata": {
    "collapsed": true
   },
   "outputs": [],
   "source": []
  },
  {
   "cell_type": "code",
   "execution_count": null,
   "metadata": {
    "collapsed": true
   },
   "outputs": [],
   "source": []
  },
  {
   "cell_type": "markdown",
   "metadata": {},
   "source": [
    "# Draw"
   ]
  },
  {
   "cell_type": "code",
   "execution_count": null,
   "metadata": {
    "collapsed": true
   },
   "outputs": [],
   "source": [
    "G = recast.aggregated_graph.copy()"
   ]
  },
  {
   "cell_type": "code",
   "execution_count": null,
   "metadata": {
    "collapsed": true
   },
   "outputs": [],
   "source": [
    "aux = []\n",
    "for i, k in results[1].iteritems():\n",
    "    if k == 0:\n",
    "        aux.append(i)"
   ]
  },
  {
   "cell_type": "code",
   "execution_count": null,
   "metadata": {
    "collapsed": true
   },
   "outputs": [],
   "source": [
    "G.remove_edges_from(aux)"
   ]
  },
  {
   "cell_type": "code",
   "execution_count": null,
   "metadata": {
    "collapsed": true
   },
   "outputs": [],
   "source": [
    "edge_color = []\n",
    "for i, k in results[1].iteritems():\n",
    "    if k == 0:\n",
    "        continue\n",
    "    elif k == 2:\n",
    "        edge_color.append('blue')\n",
    "    elif k == 3:\n",
    "        edge_color.append('gray')\n",
    "    else:\n",
    "        edge_color.append('red')\n",
    "#     G.add_edge(i[0], i[1], weight=k)"
   ]
  },
  {
   "cell_type": "code",
   "execution_count": null,
   "metadata": {
    "collapsed": true
   },
   "outputs": [],
   "source": [
    "pos=nx.spring_layout(G, k=0.4, iterations=200)"
   ]
  },
  {
   "cell_type": "code",
   "execution_count": null,
   "metadata": {
    "collapsed": true,
    "scrolled": true
   },
   "outputs": [],
   "source": [
    "nx.draw_networkx_edges(G,pos,\n",
    "                       alpha=0.5,\n",
    "                       edge_color=edge_color,)\n",
    "\n",
    "nx.draw_networkx_nodes(G, pos, alpha=0.5, \n",
    "                       nodeslist=nodes,\n",
    "                       node_size=2, \n",
    "                       node_color='#e6e6e6')\n",
    "plt.axis('off')"
   ]
  },
  {
   "cell_type": "markdown",
   "metadata": {},
   "source": [
    "random graph"
   ]
  },
  {
   "cell_type": "code",
   "execution_count": null,
   "metadata": {
    "collapsed": true
   },
   "outputs": [],
   "source": [
    "G = recast.aggregated_graph.copy()"
   ]
  },
  {
   "cell_type": "code",
   "execution_count": null,
   "metadata": {
    "collapsed": true
   },
   "outputs": [],
   "source": [
    "aux = []\n",
    "for i, k in results[1].iteritems():\n",
    "    if k != 0:\n",
    "        aux.append(i)"
   ]
  },
  {
   "cell_type": "code",
   "execution_count": null,
   "metadata": {
    "collapsed": true
   },
   "outputs": [],
   "source": [
    "G.remove_edges_from(aux)"
   ]
  },
  {
   "cell_type": "code",
   "execution_count": null,
   "metadata": {
    "collapsed": true
   },
   "outputs": [],
   "source": [
    "edge_color = []\n",
    "for i, k in results[1].iteritems():\n",
    "    if k != 0:\n",
    "        continue"
   ]
  },
  {
   "cell_type": "code",
   "execution_count": null,
   "metadata": {
    "collapsed": true
   },
   "outputs": [],
   "source": [
    "pos=nx.spring_layout(G,k=0.5)"
   ]
  },
  {
   "cell_type": "code",
   "execution_count": null,
   "metadata": {
    "collapsed": true
   },
   "outputs": [],
   "source": [
    "nx.draw_networkx_edges(G,pos,\n",
    "                       alpha=0.2,\n",
    "                       edge_color='darkorange',)\n",
    "\n",
    "nx.draw_networkx_nodes(G, pos, alpha=1.0, \n",
    "                       nodeslist=nodes,\n",
    "                       node_size=6, \n",
    "                       node_color='black')\n",
    "plt.axis('off')"
   ]
  },
  {
   "cell_type": "markdown",
   "metadata": {},
   "source": [
    "# infection"
   ]
  },
  {
   "cell_type": "code",
   "execution_count": null,
   "metadata": {
    "collapsed": true
   },
   "outputs": [],
   "source": []
  },
  {
   "cell_type": "code",
   "execution_count": null,
   "metadata": {
    "collapsed": true
   },
   "outputs": [],
   "source": [
    "def get_relation (s, t):\n",
    "    if (s, t) in results[0]:\n",
    "        return results[0][(s, t)]\n",
    "    else:\n",
    "        return results[0][(t, s)]"
   ]
  },
  {
   "cell_type": "code",
   "execution_count": null,
   "metadata": {
    "collapsed": true
   },
   "outputs": [],
   "source": [
    "def merge_dicts (d1, d2):\n",
    "    d1[-1] += d2[-1]\n",
    "    d1[0] += d2[0]\n",
    "    d1[2] += d2[2]\n",
    "    d1[3] += d2[3]\n",
    "    d1[4] += d2[4]\n",
    "    \n",
    "    return d1"
   ]
  },
  {
   "cell_type": "code",
   "execution_count": null,
   "metadata": {
    "collapsed": true
   },
   "outputs": [],
   "source": [
    "f = map (lambda x: x.strip().split(), file (os.path.join(path, 'infection_data.txt'), 'r').readlines())"
   ]
  },
  {
   "cell_type": "code",
   "execution_count": null,
   "metadata": {
    "collapsed": true
   },
   "outputs": [],
   "source": [
    "edges = map (lambda x: map (int, x), f[1::2])"
   ]
  },
  {
   "cell_type": "code",
   "execution_count": null,
   "metadata": {
    "collapsed": true
   },
   "outputs": [],
   "source": [
    "def check(arr):\n",
    "    k = {0:0, 2:0, 3:0, 4:0, -1: 0}\n",
    "    \n",
    "    if len(arr) <= 1:\n",
    "        k[-1] = 1\n",
    "        return k\n",
    "    \n",
    "    for i in range(1, len(arr)):\n",
    "        s = arr[i-1]\n",
    "        t = arr[i]\n",
    "        if ((s, t) in results[0] or (t, s) in results[0]) and \\\n",
    "            ((s, t) in results[1] or (t, s) in results[1]) and \\\n",
    "            ((s, t) in results[2] or (t, s) in results[2]) and \\\n",
    "            ((s, t) in results[3] or (t, s) in results[3]):\n",
    "            # get relationship\n",
    "            rel = get_relation (s, t)\n",
    "            k[rel] += 1\n",
    "        else:\n",
    "            print s, t\n",
    "            return False\n",
    "    return k"
   ]
  },
  {
   "cell_type": "code",
   "execution_count": null,
   "metadata": {
    "collapsed": true
   },
   "outputs": [],
   "source": [
    "st = map (lambda x: map (int, x), f[0::2])"
   ]
  },
  {
   "cell_type": "code",
   "execution_count": null,
   "metadata": {
    "collapsed": true
   },
   "outputs": [],
   "source": [
    "d_friends = {0:0, 2:0, 3:0, 4:0, -1:0}\n",
    "d_bridges = {0:0, 2:0, 3:0, 4:0, -1:0}\n",
    "d_acquaintance = {0:0, 2:0, 3:0, 4:0, -1:0}\n",
    "d_random = {0:0, 2:0, 3:0, 4:0, -1:0}"
   ]
  },
  {
   "cell_type": "code",
   "execution_count": null,
   "metadata": {
    "collapsed": true
   },
   "outputs": [],
   "source": [
    "for i in range (len(st)):\n",
    "    (s, t, tempo) = st[i]\n",
    "    rel = get_relation(s, t)\n",
    "    \n",
    "    if rel == 0:\n",
    "        d_random = merge_dicts(d_random, check(edges[i]))\n",
    "    elif rel == 2:\n",
    "        d_friends = merge_dicts(d_friends, check(edges[i]))\n",
    "    elif rel == 3:\n",
    "        d_acquaintance = merge_dicts(d_acquaintance, check(edges[i]))\n",
    "    else:\n",
    "        d_bridges = merge_dicts(d_bridges, check (edges[i]))"
   ]
  },
  {
   "cell_type": "code",
   "execution_count": null,
   "metadata": {
    "collapsed": true
   },
   "outputs": [],
   "source": [
    "d_random"
   ]
  },
  {
   "cell_type": "code",
   "execution_count": null,
   "metadata": {
    "collapsed": true
   },
   "outputs": [],
   "source": [
    "d_friends"
   ]
  },
  {
   "cell_type": "code",
   "execution_count": null,
   "metadata": {
    "collapsed": true
   },
   "outputs": [],
   "source": [
    "d_acquaintance"
   ]
  },
  {
   "cell_type": "code",
   "execution_count": null,
   "metadata": {
    "collapsed": true
   },
   "outputs": [],
   "source": [
    "d_bridges"
   ]
  },
  {
   "cell_type": "code",
   "execution_count": null,
   "metadata": {
    "collapsed": true
   },
   "outputs": [],
   "source": [
    "import pandas as pd"
   ]
  },
  {
   "cell_type": "code",
   "execution_count": null,
   "metadata": {
    "collapsed": true
   },
   "outputs": [],
   "source": [
    "N = 4\n",
    "\n",
    "random_v = np.divide (\n",
    "    np.multiply(d_random.values(), 100.0),\n",
    "    sum(d_random.values())\n",
    ")\n",
    "\n",
    "friends_v = np.divide (\n",
    "    np.multiply(d_friends.values(), 100.0),\n",
    "    sum(d_friends.values())\n",
    ")\n",
    "\n",
    "acquaintance_v = np.divide (\n",
    "    np.multiply(d_acquaintance.values(), 100.0),\n",
    "    sum(d_acquaintance.values())\n",
    ")\n",
    "\n",
    "bridges_v = np.divide (\n",
    "    np.multiply(d_bridges.values(), 100.0),\n",
    "    sum(d_bridges.values())\n",
    ")\n",
    "\n",
    "values = zip(random_v, friends_v, acquaintance_v, bridges_v)\n",
    "\n",
    "# ind = np.arange(N)    # the x locations for the groups\n",
    "# width = 0.5      # the width of the bars: can also be len(x) sequence\n"
   ]
  },
  {
   "cell_type": "code",
   "execution_count": null,
   "metadata": {
    "collapsed": true
   },
   "outputs": [],
   "source": [
    "df = pd.DataFrame({'random': values[0],\n",
    "             'friends': values[1],\n",
    "             'acquaintance': values[2],\n",
    "             'bridges': values[3]})"
   ]
  },
  {
   "cell_type": "code",
   "execution_count": null,
   "metadata": {
    "collapsed": true
   },
   "outputs": [],
   "source": [
    "ax = df.plot(kind='bar', stacked=True, colormap='Spectral', title=trace_name.split('_')[0])\n",
    "ax.legend(\n",
    "    bbox_to_anchor=(1.05, 1), loc=2, borderaxespad=0.\n",
    ")\n",
    "\n",
    "ax.set_xticklabels(['random', 'friends', 'acquaintance', 'bridges'], rotation=0)\n",
    "\n",
    "ax.set_ylim(0, 100)\n",
    "\n",
    "ax.set_ylabel(\"\\% de mensagens entregues\")\n"
   ]
  },
  {
   "cell_type": "code",
   "execution_count": null,
   "metadata": {
    "collapsed": true
   },
   "outputs": [],
   "source": []
  },
  {
   "cell_type": "code",
   "execution_count": null,
   "metadata": {
    "collapsed": true
   },
   "outputs": [],
   "source": []
  },
  {
   "cell_type": "code",
   "execution_count": null,
   "metadata": {
    "collapsed": true
   },
   "outputs": [],
   "source": []
  },
  {
   "cell_type": "code",
   "execution_count": null,
   "metadata": {
    "collapsed": true
   },
   "outputs": [],
   "source": []
  },
  {
   "cell_type": "code",
   "execution_count": null,
   "metadata": {
    "collapsed": true
   },
   "outputs": [],
   "source": []
  },
  {
   "cell_type": "code",
   "execution_count": null,
   "metadata": {
    "collapsed": true
   },
   "outputs": [],
   "source": []
  },
  {
   "cell_type": "code",
   "execution_count": null,
   "metadata": {
    "collapsed": true
   },
   "outputs": [],
   "source": []
  },
  {
   "cell_type": "code",
   "execution_count": null,
   "metadata": {
    "collapsed": true
   },
   "outputs": [],
   "source": []
  },
  {
   "cell_type": "code",
   "execution_count": null,
   "metadata": {
    "collapsed": true
   },
   "outputs": [],
   "source": []
  },
  {
   "cell_type": "code",
   "execution_count": null,
   "metadata": {
    "collapsed": true
   },
   "outputs": [],
   "source": []
  },
  {
   "cell_type": "code",
   "execution_count": null,
   "metadata": {
    "collapsed": true
   },
   "outputs": [],
   "source": []
  },
  {
   "cell_type": "code",
   "execution_count": null,
   "metadata": {
    "collapsed": true
   },
   "outputs": [],
   "source": []
  },
  {
   "cell_type": "code",
   "execution_count": null,
   "metadata": {
    "collapsed": true
   },
   "outputs": [],
   "source": []
  }
 ],
 "metadata": {
  "kernelspec": {
   "display_name": "Python 2",
   "language": "python",
   "name": "python2"
  },
  "language_info": {
   "codemirror_mode": {
    "name": "ipython",
    "version": 2
   },
   "file_extension": ".py",
   "mimetype": "text/x-python",
   "name": "python",
   "nbconvert_exporter": "python",
   "pygments_lexer": "ipython2",
   "version": "2.7.13"
  }
 },
 "nbformat": 4,
 "nbformat_minor": 1
}
