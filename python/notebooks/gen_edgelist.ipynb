{
 "cells": [
  {
   "cell_type": "code",
   "execution_count": 1,
   "metadata": {
    "collapsed": true,
    "scrolled": false
   },
   "outputs": [],
   "source": [
    "%load_ext autoreload"
   ]
  },
  {
   "cell_type": "code",
   "execution_count": 2,
   "metadata": {
    "collapsed": true
   },
   "outputs": [],
   "source": [
    "%reload_ext autoreload"
   ]
  },
  {
   "cell_type": "code",
   "execution_count": 3,
   "metadata": {
    "collapsed": true
   },
   "outputs": [],
   "source": [
    "%autoreload 2"
   ]
  },
  {
   "cell_type": "code",
   "execution_count": 4,
   "metadata": {
    "collapsed": true
   },
   "outputs": [],
   "source": [
    "from __future__ import unicode_literals"
   ]
  },
  {
   "cell_type": "code",
   "execution_count": 5,
   "metadata": {},
   "outputs": [],
   "source": [
    "import sys\n",
    "import os\n",
    "\n",
    "import networkx as nx\n",
    "import numpy as np\n",
    "import matplotlib\n",
    "\n",
    "# matplotlib.use('Agg')\n",
    "# import matplotlib.pyplot as plt\n",
    "# from matplotlib import rcParams\n",
    "# rcParams.update({'figure.autolayout': True})\n",
    "# import matplotlib\n",
    "\n",
    "import recast\n",
    "\n",
    "%aimport classifier\n",
    "%aimport ecdf\n",
    "%aimport graph_methods\n",
    "%aimport random_graph"
   ]
  },
  {
   "cell_type": "code",
   "execution_count": null,
   "metadata": {
    "collapsed": true
   },
   "outputs": [],
   "source": [
    "# from matplotlib import rc\n",
    "# rc('font',**{'family':'sans-serif','sans-serif':['Helvetica']})\n",
    "# # matplotlib.rc('font', family='Arial')\n",
    "# ## for Palatino and other serif fonts use:\n",
    "# # rc('font',**{'family':'serif','serif':['Palatino']})\n",
    "# rc('text', usetex=True)"
   ]
  },
  {
   "cell_type": "code",
   "execution_count": null,
   "metadata": {
    "collapsed": true
   },
   "outputs": [],
   "source": []
  },
  {
   "cell_type": "markdown",
   "metadata": {},
   "source": [
    "# Clustering coefficient"
   ]
  },
  {
   "cell_type": "markdown",
   "metadata": {},
   "source": [
    "###### Slow, depending on the size of the graph"
   ]
  },
  {
   "cell_type": "code",
   "execution_count": 7,
   "metadata": {
    "collapsed": true
   },
   "outputs": [],
   "source": [
    "# def clustering(graphs):\n",
    "#     l = []\n",
    "#     for k, graph in graphs.iteritems():\n",
    "#         print \"calculating average clustering for graph {} with #nodes = {} and #edges = {}\".format(k, len(graph.nodes()), len(graph.edges()))\n",
    "#         if len(graph) == 0:\n",
    "#             l.append(0.0)\n",
    "#         else:\n",
    "#             l.append(nx.average_clustering(graph, count_zeros=True, weight='abcd'))\n",
    "        \n",
    "#     return l"
   ]
  },
  {
   "cell_type": "code",
   "execution_count": 8,
   "metadata": {
    "collapsed": true
   },
   "outputs": [],
   "source": [
    "# cc_x = range(0, 29)"
   ]
  },
  {
   "cell_type": "code",
   "execution_count": 9,
   "metadata": {
    "scrolled": true
   },
   "outputs": [],
   "source": [
    "# send the temporal accumulator graph\n",
    "# cc_y_t = clustering(recast.temporal_accumulator_graphs)"
   ]
  },
  {
   "cell_type": "code",
   "execution_count": 10,
   "metadata": {},
   "outputs": [],
   "source": [
    "# send the random temporal accumulator graph\n",
    "# cc_y_r = clustering(recast.random_temporal_accumulator_graphs)\n",
    "# cc_y_r = clustering(recast.random_graphs)"
   ]
  },
  {
   "cell_type": "code",
   "execution_count": 11,
   "metadata": {},
   "outputs": [],
   "source": [
    "# plt.plot(cc_x, cc_y_t, marker='o', label='Grafo Real')\n",
    "# plt.plot(cc_x, cc_y_r, marker='x', label='Grafo Aleatorio')\n",
    "# plt.title('coef. de clusterizacao ' + trace_name.split('_')[0])\n",
    "# plt.ylim(0, 1)\n",
    "# plt.xlim(0, 29)\n",
    "# plt.ylabel(\"Coeficiente de clusterizacao\")\n",
    "# plt.xlabel(\"Tempo t (dias)\")\n",
    "# plt.legend()\n",
    "# plt.grid()\n",
    "# plt.show()"
   ]
  },
  {
   "cell_type": "code",
   "execution_count": null,
   "metadata": {
    "collapsed": true
   },
   "outputs": [],
   "source": []
  },
  {
   "cell_type": "markdown",
   "metadata": {
    "collapsed": true
   },
   "source": [
    "# Edge Persistence"
   ]
  },
  {
   "cell_type": "code",
   "execution_count": 12,
   "metadata": {
    "collapsed": true
   },
   "outputs": [],
   "source": [
    "def edge_persistence(fname, save=False):\n",
    "    run_ep()\n",
    "    run_random_ep()\n",
    "    if (save):\n",
    "        plot_ep(fname)"
   ]
  },
  {
   "cell_type": "code",
   "execution_count": 13,
   "metadata": {
    "collapsed": true
   },
   "outputs": [],
   "source": [
    "def run_ep():\n",
    "    global ep\n",
    "    ep = classifier.get_ep(recast.temporal_graphs)\n",
    "    global flatten_ep\n",
    "    flatten_ep = np.array(ep.values()).flatten()"
   ]
  },
  {
   "cell_type": "code",
   "execution_count": 14,
   "metadata": {
    "collapsed": true
   },
   "outputs": [],
   "source": [
    "def run_random_ep():\n",
    "    global random_ep\n",
    "    random_ep = classifier.get_ep(recast.random_graphs)\n",
    "    global flatten_random_ep\n",
    "    flatten_random_ep = np.array(random_ep.values()).flatten()"
   ]
  },
  {
   "cell_type": "code",
   "execution_count": 15,
   "metadata": {
    "collapsed": true
   },
   "outputs": [],
   "source": [
    "def plot_ep(fname):\n",
    "    x = np.linspace(0.0, 1.0, 100)\n",
    "    y = ecdf.calc_ecdf(flatten_ep)\n",
    "    y_r = ecdf.calc_ecdf(flatten_random_ep)\n",
    "\n",
    "    # yrange = [0, 10**(-6), 10**(-3), 10**(0)]\n",
    "    # ylabels = ['10^-6', '10^-3', '10^-0']\n",
    "\n",
    "    plt.plot(x, y, marker='o', label='Grafo Real')\n",
    "    plt.plot(x, y_r, marker='x', label='Grafo Aleatorio')\n",
    "\n",
    "    plt.yscale('log', basey=10)\n",
    "    plt.xlim(0, 1)\n",
    "    plt.ylim ([10**(-7), 10**(0)])\n",
    "\n",
    "    plt.title('[' + folder.split('/')[-2] + '] ' + \"persistence \" + trace_name.split('_')[0])\n",
    "\n",
    "    plt.ylabel('$P[per(i, j) > x]$')\n",
    "    plt.xlabel('$x$ [persistence]')\n",
    "\n",
    "    plt.legend(bbox_to_anchor=(0.98,0.05), loc=4, borderaxespad=0.)\n",
    "    # plt.legend()\n",
    "    plt.grid()\n",
    "#     plt.show()\n",
    "    plt.savefig(fname)\n",
    "    plt.clf()"
   ]
  },
  {
   "cell_type": "code",
   "execution_count": null,
   "metadata": {
    "collapsed": true
   },
   "outputs": [],
   "source": []
  },
  {
   "cell_type": "markdown",
   "metadata": {},
   "source": [
    "# Topological Overlap"
   ]
  },
  {
   "cell_type": "code",
   "execution_count": 16,
   "metadata": {
    "collapsed": true
   },
   "outputs": [],
   "source": [
    "def topological_overlap(fname, save=False):\n",
    "    run_to()\n",
    "    run_random_to()\n",
    "    if save:\n",
    "        plot_to(fname)"
   ]
  },
  {
   "cell_type": "code",
   "execution_count": 17,
   "metadata": {
    "collapsed": true
   },
   "outputs": [],
   "source": [
    "def run_to():\n",
    "    global to\n",
    "    to = classifier.get_to(recast.aggregated_graph)\n",
    "    global flatten_to\n",
    "    flatten_to = np.array(to.values()).flatten()"
   ]
  },
  {
   "cell_type": "code",
   "execution_count": 18,
   "metadata": {
    "collapsed": true
   },
   "outputs": [],
   "source": [
    "def run_random_to():\n",
    "    global random_to\n",
    "    random_to = classifier.get_to(recast.random_aggregated_graph)\n",
    "    global flatten_random_to\n",
    "    flatten_random_to = np.array(random_to.values()).flatten()"
   ]
  },
  {
   "cell_type": "code",
   "execution_count": 19,
   "metadata": {
    "collapsed": true
   },
   "outputs": [],
   "source": [
    "def plot_to(fname):\n",
    "    x = np.linspace(0.0, 1.0, 100)\n",
    "    y = ecdf.calc_ecdf(flatten_ep)\n",
    "    y_r = ecdf.calc_ecdf(flatten_random_ep)\n",
    "\n",
    "    # yrange = [0, 10**(-6), 10**(-3), 10**(0)]\n",
    "    # ylabels = ['10^-6', '10^-3', '10^-0']\n",
    "\n",
    "    plt.plot(x, y, marker='o', label='Grafo Real')\n",
    "    plt.plot(x, y_r, marker='x', label='Grafo Aleatorio')\n",
    "\n",
    "    plt.yscale('log', basey=10)\n",
    "    plt.xlim(0, 1)\n",
    "    plt.ylim ([10**(-7), 10**(0)])\n",
    "\n",
    "    plt.title('[' + folder.split('/')[-2] + '] ' + \"Topological \" + trace_name.split('_')[0])\n",
    "\n",
    "    plt.ylabel('$P[per(i, j) > x]$')\n",
    "    plt.xlabel('$x$ [persistence]')\n",
    "\n",
    "    plt.legend(bbox_to_anchor=(0.98,0.05), loc=4, borderaxespad=0.)\n",
    "    # plt.legend()\n",
    "    plt.grid()\n",
    "#     plt.show()\n",
    "    plt.savefig(fname)\n",
    "    plt.clf()"
   ]
  },
  {
   "cell_type": "code",
   "execution_count": null,
   "metadata": {
    "collapsed": true
   },
   "outputs": [],
   "source": []
  },
  {
   "cell_type": "code",
   "execution_count": null,
   "metadata": {
    "collapsed": true
   },
   "outputs": [],
   "source": []
  },
  {
   "cell_type": "code",
   "execution_count": null,
   "metadata": {
    "collapsed": true
   },
   "outputs": [],
   "source": []
  },
  {
   "cell_type": "markdown",
   "metadata": {},
   "source": [
    "# Save results"
   ]
  },
  {
   "cell_type": "code",
   "execution_count": 20,
   "metadata": {
    "collapsed": true
   },
   "outputs": [],
   "source": [
    "p_rnd = [1e-6, 1e-5, 1e-4, 1e-3,]"
   ]
  },
  {
   "cell_type": "code",
   "execution_count": 21,
   "metadata": {
    "collapsed": true
   },
   "outputs": [],
   "source": [
    "def save_edges(fname='', ext=''):\n",
    "    \n",
    "    for p in p_rnd:\n",
    "\n",
    "        x_ep = classifier.get_x (random_ep, p)\n",
    "        x_to = classifier.get_x (random_to, p)\n",
    "\n",
    "        relations = dict()\n",
    "\n",
    "        f = open(fname + '_' + str(p) + ext, 'w')\n",
    "        print ('saving {}'.format(fname + '_' + str(p) + ext))\n",
    "\n",
    "        for edge in recast.aggregated_graph.edges_iter():#ep.iterkeys():\n",
    "            x = edge[0]\n",
    "            y = edge[1]\n",
    "            f.write(str(x) + ' ' + str(y) + ' ')\n",
    "            if (ep[edge] > x_ep and to[edge] > x_to):\n",
    "                f.write(str(classifier.friends) + '\\n')\n",
    "            elif (ep[edge] <= x_ep and to[edge] > x_to):\n",
    "                f.write(str(classifier.acquaintance) + '\\n')\n",
    "            elif (ep[edge] > x_ep and to[edge] <= x_to):\n",
    "                f.write(str(classifier.bridges) + '\\n')\n",
    "            else:\n",
    "                f.write(str(classifier.random) + '\\n')\n",
    "                \n",
    "            f.write(str(y) + ' ' + str(x) + ' ')\n",
    "            if (ep[edge] > x_ep and to[edge] > x_to):\n",
    "                f.write(str(classifier.friends) + '\\n')\n",
    "            elif (ep[edge] <= x_ep and to[edge] > x_to):\n",
    "                f.write(str(classifier.acquaintance) + '\\n')\n",
    "            elif (ep[edge] > x_ep and to[edge] <= x_to):\n",
    "                f.write(str(classifier.bridges) + '\\n')\n",
    "            else:\n",
    "                f.write(str(classifier.random) + '\\n')\n",
    "\n",
    "        f.close()"
   ]
  },
  {
   "cell_type": "code",
   "execution_count": null,
   "metadata": {
    "collapsed": true
   },
   "outputs": [],
   "source": []
  },
  {
   "cell_type": "code",
   "execution_count": null,
   "metadata": {
    "collapsed": true
   },
   "outputs": [],
   "source": []
  },
  {
   "cell_type": "code",
   "execution_count": null,
   "metadata": {
    "collapsed": true
   },
   "outputs": [],
   "source": []
  },
  {
   "cell_type": "code",
   "execution_count": null,
   "metadata": {
    "collapsed": true
   },
   "outputs": [],
   "source": []
  },
  {
   "cell_type": "code",
   "execution_count": null,
   "metadata": {
    "collapsed": true
   },
   "outputs": [],
   "source": []
  },
  {
   "cell_type": "markdown",
   "metadata": {},
   "source": [
    "# Classify Results"
   ]
  },
  {
   "cell_type": "code",
   "execution_count": 22,
   "metadata": {
    "collapsed": true
   },
   "outputs": [],
   "source": [
    "p_rnd = [1e-6, 1e-5, 1e-4, 1e-3,]"
   ]
  },
  {
   "cell_type": "code",
   "execution_count": 23,
   "metadata": {
    "collapsed": true
   },
   "outputs": [],
   "source": [
    "def classify_results(fname, save=False):\n",
    "    \n",
    "    results = []\n",
    "    for p in p_rnd:\n",
    "        results.append(classify(ep, random_ep, to, random_to, p))\n",
    "        \n",
    "    global friends\n",
    "    global random\n",
    "    global bridges\n",
    "    global acquaintance\n",
    "    \n",
    "    friends = []\n",
    "    random = []\n",
    "    bridges = []\n",
    "    acquaintance = []\n",
    "    for i in results:\n",
    "        r = classifier.combine_relations(i)\n",
    "        random.append(r[0])\n",
    "        friends.append(r[2])\n",
    "        acquaintance.append(r[3])\n",
    "        bridges.append(r[4])\n",
    "        \n",
    "    if save:\n",
    "        plot(fname)"
   ]
  },
  {
   "cell_type": "code",
   "execution_count": 24,
   "metadata": {
    "collapsed": true
   },
   "outputs": [],
   "source": [
    "def classify (ep, random_ep, to, random_to, p_rnd):\n",
    "    x_ep = classifier.get_x (random_ep, p_rnd)\n",
    "    x_to = classifier.get_x (random_to, p_rnd)\n",
    "    \n",
    "#     x_to -= 0.15\n",
    "\n",
    "    relations = dict()\n",
    "\n",
    "    for edge in recast.aggregated_graph.edges_iter():#ep.iterkeys():\n",
    "        if (ep[edge] > x_ep and to[edge] > x_to):\n",
    "            relations[edge] = classifier.friends\n",
    "        elif (ep[edge] <= x_ep and to[edge] > x_to):\n",
    "            relations[edge] = classifier.acquaintance\n",
    "        elif (ep[edge] > x_ep and to[edge] <= x_to):\n",
    "            relations[edge] = classifier.bridges\n",
    "        else:\n",
    "            relations[edge] = classifier.random\n",
    "\n",
    "    return relations"
   ]
  },
  {
   "cell_type": "code",
   "execution_count": 25,
   "metadata": {
    "collapsed": true
   },
   "outputs": [],
   "source": [
    "def plot(fname):\n",
    "    plt.plot(p_rnd, friends, marker='x', label='Amigos', color='blue')\n",
    "    plt.plot(p_rnd, bridges, marker='+', label='Pontes', color='red')\n",
    "    plt.plot(p_rnd, acquaintance, marker='s', label='Conhecidos', color='gray')\n",
    "    plt.plot(p_rnd, random, marker='o', label='Desconhecidos', color='orange')\n",
    "\n",
    "    # plt.xticks(p_rnd)\n",
    "\n",
    "    # plt.xlim ([10**(-6), 10**(-3)])\n",
    "    plt.yscale('log', basey=10)\n",
    "    plt.xscale('log', basey=10)\n",
    "\n",
    "#     plt.ylim ([1e3, 1e6])\n",
    "\n",
    "    # plt.yticks(yrange, ylabels)\n",
    "\n",
    "    plt.title(r'Classificacao ' + trace_name.split('_')[0])\n",
    "    plt.title('[' + folder.split('/')[-2] + '] ' + r'Classificacao ' + trace_name.split('_')[0])\n",
    "\n",
    "    plt.ylabel(\"Numero de arestas\")\n",
    "    plt.xlabel(r'$p_{rnd}$')\n",
    "\n",
    "#     plt.legend(bbox_to_anchor=(0.97, 0.97), loc='upper right', borderaxespad=0.)\n",
    "    plt.legend(bbox_to_anchor=(1.05, 1), loc=2, borderaxespad=0.)\n",
    "\n",
    "    plt.savefig(fname, bbox_inches='tight')\n",
    "    plt.clf()\n",
    "\n"
   ]
  },
  {
   "cell_type": "code",
   "execution_count": null,
   "metadata": {
    "collapsed": true
   },
   "outputs": [],
   "source": []
  },
  {
   "cell_type": "code",
   "execution_count": null,
   "metadata": {
    "collapsed": true
   },
   "outputs": [],
   "source": []
  },
  {
   "cell_type": "code",
   "execution_count": null,
   "metadata": {
    "collapsed": true
   },
   "outputs": [],
   "source": []
  },
  {
   "cell_type": "code",
   "execution_count": 26,
   "metadata": {
    "scrolled": true
   },
   "outputs": [
    {
     "name": "stdout",
     "output_type": "stream",
     "text": [
      "-- reading input file ./ego_graphs/swim_n100_r008_a03/0.txt -- \n",
      "saving recastd_class/swim_n100_r008_a03/0_1e-06.txt\n",
      "saving recastd_class/swim_n100_r008_a03/0_1e-05.txt\n",
      "saving recastd_class/swim_n100_r008_a03/0_0.0001.txt\n",
      "saving recastd_class/swim_n100_r008_a03/0_0.001.txt\n",
      "-- reading input file ./ego_graphs/swim_n100_r008_a03/1.txt -- \n",
      "saving recastd_class/swim_n100_r008_a03/1_1e-06.txt\n",
      "saving recastd_class/swim_n100_r008_a03/1_1e-05.txt\n",
      "saving recastd_class/swim_n100_r008_a03/1_0.0001.txt\n",
      "saving recastd_class/swim_n100_r008_a03/1_0.001.txt\n",
      "-- reading input file ./ego_graphs/swim_n100_r008_a03/10.txt -- \n"
     ]
    },
    {
     "ename": "KeyboardInterrupt",
     "evalue": "",
     "output_type": "error",
     "traceback": [
      "\u001b[0;31m---------------------------------------------------------------------------\u001b[0m",
      "\u001b[0;31mKeyboardInterrupt\u001b[0m                         Traceback (most recent call last)",
      "\u001b[0;32m<ipython-input-26-c55fc7f7a54a>\u001b[0m in \u001b[0;36m<module>\u001b[0;34m()\u001b[0m\n\u001b[1;32m     28\u001b[0m     \u001b[0mtrace_name\u001b[0m \u001b[0;34m=\u001b[0m \u001b[0mos\u001b[0m\u001b[0;34m.\u001b[0m\u001b[0mpath\u001b[0m\u001b[0;34m.\u001b[0m\u001b[0msplit\u001b[0m\u001b[0;34m(\u001b[0m\u001b[0mtrace\u001b[0m\u001b[0;34m)\u001b[0m\u001b[0;34m[\u001b[0m\u001b[0;36m1\u001b[0m\u001b[0;34m]\u001b[0m\u001b[0;34m.\u001b[0m\u001b[0msplit\u001b[0m\u001b[0;34m(\u001b[0m\u001b[0;34m'.'\u001b[0m\u001b[0;34m)\u001b[0m\u001b[0;34m[\u001b[0m\u001b[0;36m0\u001b[0m\u001b[0;34m]\u001b[0m\u001b[0;34m\u001b[0m\u001b[0m\n\u001b[1;32m     29\u001b[0m \u001b[0;34m\u001b[0m\u001b[0m\n\u001b[0;32m---> 30\u001b[0;31m     \u001b[0mrecast\u001b[0m\u001b[0;34m.\u001b[0m\u001b[0mmain\u001b[0m\u001b[0;34m(\u001b[0m\u001b[0;34m)\u001b[0m\u001b[0;34m\u001b[0m\u001b[0m\n\u001b[0m\u001b[1;32m     31\u001b[0m     \u001b[0medge_persistence\u001b[0m\u001b[0;34m(\u001b[0m\u001b[0mfigs_ep\u001b[0m \u001b[0;34m+\u001b[0m \u001b[0mos\u001b[0m\u001b[0;34m.\u001b[0m\u001b[0msep\u001b[0m \u001b[0;34m+\u001b[0m \u001b[0mtrace_name\u001b[0m \u001b[0;34m+\u001b[0m \u001b[0;34m'.png'\u001b[0m\u001b[0;34m,\u001b[0m \u001b[0msave\u001b[0m\u001b[0;34m=\u001b[0m\u001b[0mFalse\u001b[0m\u001b[0;34m)\u001b[0m\u001b[0;34m\u001b[0m\u001b[0m\n\u001b[1;32m     32\u001b[0m     \u001b[0mtopological_overlap\u001b[0m\u001b[0;34m(\u001b[0m\u001b[0mfigs_to\u001b[0m \u001b[0;34m+\u001b[0m \u001b[0mos\u001b[0m\u001b[0;34m.\u001b[0m\u001b[0msep\u001b[0m \u001b[0;34m+\u001b[0m \u001b[0mtrace_name\u001b[0m \u001b[0;34m+\u001b[0m \u001b[0;34m'.png'\u001b[0m\u001b[0;34m,\u001b[0m \u001b[0msave\u001b[0m\u001b[0;34m=\u001b[0m\u001b[0mFalse\u001b[0m\u001b[0;34m)\u001b[0m\u001b[0;34m\u001b[0m\u001b[0m\n",
      "\u001b[0;32m/Users/guilhermeleobas/Dropbox/code/recastd/python/recast.py\u001b[0m in \u001b[0;36mmain\u001b[0;34m()\u001b[0m\n\u001b[1;32m     54\u001b[0m     \u001b[0;31m# print ('--- -- --- -- --- -- ---')\u001b[0m\u001b[0;34m\u001b[0m\u001b[0;34m\u001b[0m\u001b[0m\n\u001b[1;32m     55\u001b[0m     \u001b[0;31m# print ('-- Generating random graphs')\u001b[0m\u001b[0;34m\u001b[0m\u001b[0;34m\u001b[0m\u001b[0m\n\u001b[0;32m---> 56\u001b[0;31m     \u001b[0mrandom_graphs\u001b[0m \u001b[0;34m=\u001b[0m \u001b[0mrg\u001b[0m\u001b[0;34m.\u001b[0m\u001b[0mget_random_graphs\u001b[0m\u001b[0;34m(\u001b[0m\u001b[0mtemporal_graphs\u001b[0m\u001b[0;34m)\u001b[0m\u001b[0;34m\u001b[0m\u001b[0m\n\u001b[0m\u001b[1;32m     57\u001b[0m     \u001b[0;31m# print('')\u001b[0m\u001b[0;34m\u001b[0m\u001b[0;34m\u001b[0m\u001b[0m\n\u001b[1;32m     58\u001b[0m \u001b[0;34m\u001b[0m\u001b[0m\n",
      "\u001b[0;32m/Users/guilhermeleobas/Dropbox/code/recastd/python/random_graph.py\u001b[0m in \u001b[0;36mget_random_graphs\u001b[0;34m(temporal_graphs)\u001b[0m\n\u001b[1;32m     10\u001b[0m     \u001b[0;32mfor\u001b[0m \u001b[0mk\u001b[0m\u001b[0;34m,\u001b[0m \u001b[0mv\u001b[0m \u001b[0;32min\u001b[0m \u001b[0mtemporal_graphs\u001b[0m\u001b[0;34m.\u001b[0m\u001b[0miteritems\u001b[0m\u001b[0;34m(\u001b[0m\u001b[0;34m)\u001b[0m\u001b[0;34m:\u001b[0m\u001b[0;34m\u001b[0m\u001b[0m\n\u001b[1;32m     11\u001b[0m         \u001b[0megraph\u001b[0m \u001b[0;34m=\u001b[0m \u001b[0mv\u001b[0m\u001b[0;34m\u001b[0m\u001b[0m\n\u001b[0;32m---> 12\u001b[0;31m         \u001b[0mrgraph\u001b[0m \u001b[0;34m=\u001b[0m \u001b[0mnx\u001b[0m\u001b[0;34m.\u001b[0m\u001b[0mexpected_degree_graph\u001b[0m\u001b[0;34m(\u001b[0m\u001b[0megraph\u001b[0m\u001b[0;34m.\u001b[0m\u001b[0mdegree\u001b[0m\u001b[0;34m(\u001b[0m\u001b[0;34m)\u001b[0m\u001b[0;34m.\u001b[0m\u001b[0mvalues\u001b[0m\u001b[0;34m(\u001b[0m\u001b[0;34m)\u001b[0m\u001b[0;34m,\u001b[0m \u001b[0mselfloops\u001b[0m\u001b[0;34m=\u001b[0m\u001b[0mFalse\u001b[0m\u001b[0;34m)\u001b[0m\u001b[0;34m\u001b[0m\u001b[0m\n\u001b[0m\u001b[1;32m     13\u001b[0m \u001b[0;34m\u001b[0m\u001b[0m\n\u001b[1;32m     14\u001b[0m         \u001b[0;31m# mapping = dict(zip(\u001b[0m\u001b[0;34m\u001b[0m\u001b[0;34m\u001b[0m\u001b[0m\n",
      "\u001b[0;32m/usr/local/lib/python2.7/site-packages/networkx/generators/degree_seq.pyc\u001b[0m in \u001b[0;36mexpected_degree_graph\u001b[0;34m(w, seed, selfloops)\u001b[0m\n\u001b[1;32m    372\u001b[0m             \u001b[0;32mif\u001b[0m \u001b[0mp\u001b[0m \u001b[0;34m!=\u001b[0m \u001b[0;36m1\u001b[0m\u001b[0;34m:\u001b[0m\u001b[0;34m\u001b[0m\u001b[0m\n\u001b[1;32m    373\u001b[0m                 \u001b[0mr\u001b[0m \u001b[0;34m=\u001b[0m \u001b[0mrandom\u001b[0m\u001b[0;34m.\u001b[0m\u001b[0mrandom\u001b[0m\u001b[0;34m(\u001b[0m\u001b[0;34m)\u001b[0m\u001b[0;34m\u001b[0m\u001b[0m\n\u001b[0;32m--> 374\u001b[0;31m                 \u001b[0mv\u001b[0m \u001b[0;34m+=\u001b[0m \u001b[0mint\u001b[0m\u001b[0;34m(\u001b[0m\u001b[0mmath\u001b[0m\u001b[0;34m.\u001b[0m\u001b[0mfloor\u001b[0m\u001b[0;34m(\u001b[0m\u001b[0mmath\u001b[0m\u001b[0;34m.\u001b[0m\u001b[0mlog\u001b[0m\u001b[0;34m(\u001b[0m\u001b[0mr\u001b[0m\u001b[0;34m)\u001b[0m\u001b[0;34m/\u001b[0m\u001b[0mmath\u001b[0m\u001b[0;34m.\u001b[0m\u001b[0mlog\u001b[0m\u001b[0;34m(\u001b[0m\u001b[0;36m1\u001b[0m\u001b[0;34m-\u001b[0m\u001b[0mp\u001b[0m\u001b[0;34m)\u001b[0m\u001b[0;34m)\u001b[0m\u001b[0;34m)\u001b[0m\u001b[0;34m\u001b[0m\u001b[0m\n\u001b[0m\u001b[1;32m    375\u001b[0m             \u001b[0;32mif\u001b[0m \u001b[0mv\u001b[0m \u001b[0;34m<\u001b[0m \u001b[0mn\u001b[0m\u001b[0;34m:\u001b[0m\u001b[0;34m\u001b[0m\u001b[0m\n\u001b[1;32m    376\u001b[0m                 \u001b[0mq\u001b[0m \u001b[0;34m=\u001b[0m \u001b[0mseq\u001b[0m\u001b[0;34m[\u001b[0m\u001b[0mv\u001b[0m\u001b[0;34m]\u001b[0m\u001b[0;34m*\u001b[0m\u001b[0mfactor\u001b[0m\u001b[0;34m\u001b[0m\u001b[0m\n",
      "\u001b[0;31mKeyboardInterrupt\u001b[0m: "
     ]
    }
   ],
   "source": [
    "python_file = 'recast.py'\n",
    "\n",
    "trace = 'swim_n100_r008_a03'\n",
    "\n",
    "in_folder = './ego_graphs/' + trace\n",
    "\n",
    "figs_ep = 'images/' + trace + '/ep'\n",
    "figs_to = 'images/' + trace + '/to'\n",
    "figs_classifier = 'images/' + trace + '/classifier'\n",
    "out_folder = 'recastd_class/' + trace\n",
    "\n",
    "if not os.path.exists(figs_ep):\n",
    "    os.makedirs(figs_ep)\n",
    "if not os.path.exists(figs_to):\n",
    "    os.makedirs(figs_to)\n",
    "if not os.path.exists(figs_classifier):\n",
    "    os.makedirs(figs_classifier)\n",
    "if not os.path.exists(out_folder):\n",
    "    os.makedirs(out_folder)\n",
    "\n",
    "folder = in_folder\n",
    "\n",
    "for f in os.listdir(folder):\n",
    "\n",
    "    trace = folder + os.sep + f\n",
    "    sys.argv = [python_file, trace]\n",
    "    path = os.path.split(trace)[0]\n",
    "    trace_name = os.path.split(trace)[1].split('.')[0]\n",
    "    \n",
    "    recast.main()\n",
    "    edge_persistence(figs_ep + os.sep + trace_name + '.png', save=False)\n",
    "    topological_overlap(figs_to + os.sep + trace_name + '.png', save=False)\n",
    "    save_edges(fname=out_folder + os.sep + trace_name, ext='.txt')\n",
    "    classify_results(figs_classifier + os.sep + trace_name + '.png', save=False)\n",
    "    \n",
    "    "
   ]
  }
 ],
 "metadata": {
  "kernelspec": {
   "display_name": "Python 2",
   "language": "python",
   "name": "python2"
  },
  "language_info": {
   "codemirror_mode": {
    "name": "ipython",
    "version": 2
   },
   "file_extension": ".py",
   "mimetype": "text/x-python",
   "name": "python",
   "nbconvert_exporter": "python",
   "pygments_lexer": "ipython2",
   "version": "2.7.13"
  }
 },
 "nbformat": 4,
 "nbformat_minor": 2
}
